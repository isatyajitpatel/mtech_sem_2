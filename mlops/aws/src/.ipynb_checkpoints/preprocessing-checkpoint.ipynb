{
 "cells": [
  {
   "cell_type": "markdown",
   "metadata": {},
   "source": [
    "# Build a Recommendation System for Purchase Data"
   ]
  },
  {
   "cell_type": "markdown",
   "metadata": {},
   "source": [
    "The score of this notebook is creating a Model Package to deploy the model as an hosted service on AWS\n",
    "\n",
    "### The Goal\n",
    "When the user login in, we may recommend top 10 items to be added to their basket\n",
    "\n",
    "**Notice**: It's a really simple scenario. We assume that predictions are already provided. No Automated Pipeline. A really plain vanilla example!\n"
   ]
  },
  {
   "cell_type": "code",
   "execution_count": 7,
   "metadata": {},
   "outputs": [],
   "source": [
    "#Libraries\n",
    "\n",
    "#Data Science\n",
    "# import numpy as np\n",
    "# import pandas as pd\n",
    "# import matplotlib.pyplot as plt\n",
    "# import seaborn as sns\n",
    "# from surprise import Reader\n",
    "# from surprise import Dataset\n",
    "# from surprise.model_selection import cross_validate\n",
    "# from surprise import NormalPredictor, BaselineOnly\n",
    "# from surprise import KNNBasic,KNNWithMeans,KNNWithZScore,KNNBaseline\n",
    "# from surprise import SVD,SVDpp,NMF\n",
    "# from surprise import SlopeOne, CoClustering\n",
    "# from surprise.model_selection import train_test_split\n",
    "# from surprise.accuracy import rmse, mae\n",
    "from surprise import dump\n",
    "\n",
    "#Model Tracking\n",
    "import mlflow\n",
    "from mlflow.tracking import MlflowClient\n",
    "TRACKING_URI = 'http://mlflow:5000'\n",
    "mlflow.set_tracking_uri(TRACKING_URI)\n",
    "\n",
    "#Utils\n",
    "import os\n",
    "import configparser\n",
    "from collections import defaultdict\n",
    "import tempfile\n",
    "import json"
   ]
  },
  {
   "cell_type": "code",
   "execution_count": 2,
   "metadata": {},
   "outputs": [],
   "source": [
    "cwd = os.getcwd()"
   ]
  },
  {
   "cell_type": "markdown",
   "metadata": {},
   "source": [
    "## Download Model Artefact"
   ]
  },
  {
   "cell_type": "code",
   "execution_count": 4,
   "metadata": {},
   "outputs": [],
   "source": [
    "client = MlflowClient()"
   ]
  },
  {
   "cell_type": "code",
   "execution_count": 5,
   "metadata": {},
   "outputs": [
    {
     "name": "stderr",
     "output_type": "stream",
     "text": [
      "/opt/conda/lib/python3.7/site-packages/botocore/vendored/requests/packages/urllib3/_collections.py:1: DeprecationWarning: Using or importing the ABCs from 'collections' instead of from 'collections.abc' is deprecated since Python 3.3,and in 3.9 it will stop working\n",
      "  from collections import Mapping, MutableMapping\n"
     ]
    },
    {
     "data": {
      "text/plain": [
       "'/home/jovyan/work/ModeLab/ModelApp/notebook/model/model.pkl'"
      ]
     },
     "execution_count": 5,
     "metadata": {},
     "output_type": "execute_result"
    }
   ],
   "source": [
    "champion=client.get_registered_model('Champion')\n",
    "championid=champion.latest_versions[-1].run_id\n",
    "client.download_artifacts(championid, 'model/model.pkl', cwd)"
   ]
  },
  {
   "cell_type": "markdown",
   "metadata": {},
   "source": [
    "## Analyze Model Artifact"
   ]
  },
  {
   "cell_type": "code",
   "execution_count": 15,
   "metadata": {},
   "outputs": [],
   "source": [
    "algopath = os.path.join(cwd, 'model/model.pkl')\n",
    "predictions, algo = dump.load(algopath)"
   ]
  },
  {
   "cell_type": "code",
   "execution_count": 23,
   "metadata": {},
   "outputs": [
    {
     "name": "stdout",
     "output_type": "stream",
     "text": [
      "[Prediction(uid='533', iid='245', r_ui=24.0, est=9.096523386141806, details={'was_impossible': False}), Prediction(uid='8609', iid='275', r_ui=0.0, est=3.847388464042559, details={'was_impossible': False}), Prediction(uid='16414', iid='77', r_ui=0.0, est=3.331804696233321, details={'was_impossible': False}), Prediction(uid='3251', iid='17', r_ui=6.0, est=1.9515844176243702, details={'was_impossible': False}), Prediction(uid='27040', iid='151', r_ui=0.0, est=6.427005270702793, details={'was_impossible': False}), Prediction(uid='15242', iid='105', r_ui=0.0, est=2.2707869839722457, details={'was_impossible': False}), Prediction(uid='18643', iid='42', r_ui=10.0, est=2.67216763458241, details={'was_impossible': False}), Prediction(uid='20155', iid='71', r_ui=20.0, est=15.860727324132027, details={'was_impossible': False}), Prediction(uid='3355', iid='2', r_ui=3.0, est=2.4905236427530113, details={'was_impossible': False}), Prediction(uid='1054', iid='7', r_ui=0.0, est=5.053559316605646, details={'was_impossible': False})]\n",
      "****************************************************************************************************\n",
      "<surprise.prediction_algorithms.baseline_only.BaselineOnly object at 0x7f01a2808050>\n"
     ]
    }
   ],
   "source": [
    "print(predictions[0:10])\n",
    "print('*'*100)\n",
    "print(algo)"
   ]
  },
  {
   "cell_type": "markdown",
   "metadata": {},
   "source": [
    "## Model Pipeline"
   ]
  },
  {
   "cell_type": "markdown",
   "metadata": {},
   "source": [
    "#### Read Data "
   ]
  },
  {
   "cell_type": "code",
   "execution_count": null,
   "metadata": {},
   "outputs": [],
   "source": [
    "def reader():\n",
    "    dbconnPath = './dbconn.properties'\n",
    "    # Set dbconnection variables\n",
    "    config = configparser.RawConfigParser()\n",
    "    config.read(dbconnPath)\n",
    "    params = config\n",
    "    db_host=params.get('CONN', 'host')\n",
    "    db_port=params.get('CONN', 'port')\n",
    "    db_user=params.get('CONN', 'user')\n",
    "    db_pwd=params.get('CONN', 'password')\n",
    "    db_name=params.get('CONN', 'database')\n",
    "    # Set connection string\n",
    "    connection_str = f'mysql+pymysql://{db_user}:{db_pwd}@{db_host}:{db_port}/{db_name}'\n",
    "    # connect to database\n",
    "    engine = sql.create_engine(connection_str)\n",
    "    connection = engine.connect()\n",
    "    df_trx = pd.read_sql(\"select * from TRANSACTIONS\", connection)\n",
    "    connection.close()"
   ]
  },
  {
   "cell_type": "markdown",
   "metadata": {},
   "source": [
    "#### Trasform data"
   ]
  },
  {
   "cell_type": "code",
   "execution_count": null,
   "metadata": {},
   "outputs": [],
   "source": [
    "def trasformer():\n",
    "    data_prep_1=pd.DataFrame(df_trx.products.str.split('|').tolist(), index=df_trx.customerId)\\\n",
    ".stack()\\\n",
    ".reset_index()\\\n",
    ".groupby(['customerId', 0])\\\n",
    ".agg({0: 'count'})\\\n",
    ".rename(columns={0: 'purchase_count'})\\\n",
    ".reset_index()\\\n",
    ".rename(columns={0: 'productId'})\n",
    "    data_prep_2 = pd.pivot_table(data=data_prep_1, index='customerId', columns='productId', values='purchase_count', aggfunc='sum')\n",
    "data_prep_3 = (data_prep_2 - data_prep_2.min())/(data_prep_2.max() - data_prep_2.min())\n",
    "data_prep_4 = data_prep_3.reset_index().melt(id_vars=['customerId'], value_name='prod_ratings').dropna()\n",
    "data_prep_4.index = np.arange(0, len(data_prep_4))\n",
    "data_prep_4['prod_ratings'] = data_prep_4['prod_ratings'].apply(lambda x: int((round(x, 2))*100))"
   ]
  },
  {
   "cell_type": "markdown",
   "metadata": {},
   "source": [
    "#### Load Data"
   ]
  },
  {
   "cell_type": "code",
   "execution_count": null,
   "metadata": {},
   "outputs": [],
   "source": [
    "def loader():\n",
    "    # A reader is required with the rating_scale param\n",
    "    mindata = data_prep_4.prod_ratings.min()\n",
    "    maxdata = data_prep_4.prod_ratings.max()\n",
    "    reader = Reader(rating_scale=(mindata,maxdata))\n",
    "\n",
    "    # The columns must correspond to user id, item id and ratings (in that order)\n",
    "    data_prep_5 = data_prep_4.rename(columns={'customerId': 'userID', 'productId':'itemID', 'prod_ratings':'rating'})\n",
    "    data = Dataset.load_from_df(data_prep_5[['userID', 'itemID', 'rating']], reader)"
   ]
  },
  {
   "cell_type": "markdown",
   "metadata": {},
   "source": [
    "#### Predict"
   ]
  },
  {
   "cell_type": "code",
   "execution_count": null,
   "metadata": {},
   "outputs": [],
   "source": [
    "def server():\n",
    "    "
   ]
  },
  {
   "cell_type": "markdown",
   "metadata": {},
   "source": [
    "#### Get top-n recommendation for each user"
   ]
  },
  {
   "cell_type": "code",
   "execution_count": 26,
   "metadata": {},
   "outputs": [],
   "source": [
    "def get_top_n(predictions, n=10):\n",
    "    \n",
    "    '''\n",
    "    Function to return the top-N recommendation for each user \n",
    "    from a set of predictions.\n",
    "    \n",
    "    param: predictions: The list of predictions\n",
    "    param: n: Recommendations for each user. Default is 10.\n",
    "    Return: dict where keys are user (raw) ids and values are lists of tuples:\n",
    "        [(raw item id, rating estimation), ...] of size n.\n",
    "    '''\n",
    "\n",
    "    # First map the predictions to each user.\n",
    "    top_n = defaultdict(list)\n",
    "    for uid, iid, true_r, est, _ in predictions:\n",
    "        top_n[uid].append((iid, est))\n",
    "\n",
    "    # Then sort the predictions for each user and retrieve the k highest ones.\n",
    "    for uid, user_ratings in top_n.items():\n",
    "        user_ratings.sort(key=lambda x: x[1], reverse=True)\n",
    "        top_n[uid] = user_ratings[:n]\n",
    "\n",
    "    return top_n"
   ]
  },
  {
   "cell_type": "markdown",
   "metadata": {},
   "source": [
    "#### Get top-n recommendation for a single ui"
   ]
  },
  {
   "cell_type": "code",
   "execution_count": 29,
   "metadata": {},
   "outputs": [],
   "source": [
    "def get_top_n_ui(top_n, ui):\n",
    "    '''\n",
    "    Function to return the top-N recommendation for a\n",
    "    particular userid from a set of predictions. \n",
    "    \n",
    "    param: top_n: dict of top recommendations per userid\n",
    "    param: ui: string of userid\n",
    "    Return: dict where keys are user (raw) ids and values are lists of tuples:\n",
    "        [(raw item id, rating estimation), ...] of size n.\n",
    "    \n",
    "    '''\n",
    "    try:\n",
    "        return {k:v for k,v in top_n.items() if ui==k}\n",
    "    except ValueError: # user was not part of the trainset\n",
    "        return 0"
   ]
  },
  {
   "cell_type": "code",
   "execution_count": 31,
   "metadata": {},
   "outputs": [],
   "source": [
    "def main():\n",
    "    pass\n",
    "    "
   ]
  },
  {
   "cell_type": "code",
   "execution_count": null,
   "metadata": {},
   "outputs": [],
   "source": []
  }
 ],
 "metadata": {
  "kernelspec": {
   "display_name": "Python 3",
   "language": "python",
   "name": "python3"
  },
  "language_info": {
   "codemirror_mode": {
    "name": "ipython",
    "version": 3
   },
   "file_extension": ".py",
   "mimetype": "text/x-python",
   "name": "python",
   "nbconvert_exporter": "python",
   "pygments_lexer": "ipython3",
   "version": "3.7.6"
  }
 },
 "nbformat": 4,
 "nbformat_minor": 4
}
