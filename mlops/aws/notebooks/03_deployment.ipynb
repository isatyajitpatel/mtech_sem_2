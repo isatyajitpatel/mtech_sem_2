{
 "cells": [
  {
   "cell_type": "markdown",
   "metadata": {},
   "source": [
    "# Build a Recommendation System for Purchase Data\n",
    "\n",
    "The scope of this notebook is preparing the enviroment for deploy the Interactive Web Service on AWS EC2 instance as hosted web service (no containers)"
   ]
  },
  {
   "cell_type": "code",
   "execution_count": 10,
   "metadata": {},
   "outputs": [
    {
     "name": "stdout",
     "output_type": "stream",
     "text": [
      "Overwriting ../setup.sh\n"
     ]
    }
   ],
   "source": [
    "%%writefile ../setup.sh\n",
    "\n",
    "#!/usr/bin/env bash\n",
    "\n",
    "# setup.sh\n",
    "# Create the python enviroment to deploy the application as an hosted Interactive Web Service on AWS EC2 instance\n",
    "\n",
    "#Pass ENVNAME\n",
    "ENVNAME=${1:-pyenv}\n",
    "\n",
    "# update local packages \n",
    "sudo apt-get update -y\n",
    "# install dependencies\n",
    "sudo apt-get install -y python3-pip python3-dev python3-venv\n",
    "# create the python enviroment\n",
    "python3 -m venv ${ENVNAME}\n",
    "# activate a virtual environment¶\n",
    "source ./${ENVNAME}/bin/activate\n",
    "#install packages\n",
    "pip install -r ./src/score_interactive_endpoint/requirements.txt"
   ]
  },
  {
   "cell_type": "code",
   "execution_count": 11,
   "metadata": {},
   "outputs": [],
   "source": [
    "!chmod +x ../setup.sh"
   ]
  },
  {
   "cell_type": "markdown",
   "metadata": {},
   "source": [
    "Finally:\n",
    "\n",
    "1. source pyenv/bin/activate\n",
    "2. python ./src/score_interactive_endpoint/run.py"
   ]
  }
 ],
 "metadata": {
  "kernelspec": {
   "display_name": "Python 3",
   "language": "python",
   "name": "python3"
  },
  "language_info": {
   "codemirror_mode": {
    "name": "ipython",
    "version": 3
   },
   "file_extension": ".py",
   "mimetype": "text/x-python",
   "name": "python",
   "nbconvert_exporter": "python",
   "pygments_lexer": "ipython3",
   "version": "3.7.6"
  }
 },
 "nbformat": 4,
 "nbformat_minor": 4
}
